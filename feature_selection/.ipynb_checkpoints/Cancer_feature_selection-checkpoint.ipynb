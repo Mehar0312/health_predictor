{
 "cells": [
  {
   "cell_type": "markdown",
   "metadata": {
    "colab_type": "text",
    "id": "view-in-github"
   },
   "source": [
    "<a href=\"https://colab.research.google.com/github/Devansharma/Health-App/blob/main/BreastCancerEDA.ipynb\" target=\"_parent\"><img src=\"https://colab.research.google.com/assets/colab-badge.svg\" alt=\"Open In Colab\"/></a>"
   ]
  },
  {
   "cell_type": "code",
   "execution_count": 1,
   "metadata": {
    "id": "ubXBSfgWw0fu"
   },
   "outputs": [],
   "source": [
    "import pandas as pd\n",
    "import seaborn as sns\n",
    "import numpy as np\n",
    "import matplotlib.pyplot as plt\n",
    "\n",
    "import warnings\n",
    "warnings.filterwarnings('ignore')"
   ]
  },
  {
   "cell_type": "code",
   "execution_count": 3,
   "metadata": {
    "id": "3_z_psjPxCqF"
   },
   "outputs": [],
   "source": [
    "df = pd.read_csv(\"F:\\Project\\HealthApp\\model_codes\\cancer.csv\")"
   ]
  },
  {
   "cell_type": "code",
   "execution_count": null,
   "metadata": {
    "colab": {
     "base_uri": "https://localhost:8080/",
     "height": 241
    },
    "id": "MJ_58HIzxN5m",
    "outputId": "3b72746b-688a-4743-fd1c-02e28eaafb0b"
   },
   "outputs": [],
   "source": [
    "df.head()"
   ]
  },
  {
   "cell_type": "markdown",
   "metadata": {
    "id": "FcPu82g0xr6P"
   },
   "source": [
    "Diagnosis is the class label. \n",
    "Unnamed 32 consists NaN values.\n",
    "ID has no role."
   ]
  },
  {
   "cell_type": "code",
   "execution_count": null,
   "metadata": {
    "colab": {
     "base_uri": "https://localhost:8080/"
    },
    "id": "LG6CZa76xdHA",
    "outputId": "2acc3e19-70e0-498c-b992-1d86c655b54a"
   },
   "outputs": [],
   "source": [
    "cols = df.columns\n",
    "print(cols)"
   ]
  },
  {
   "cell_type": "code",
   "execution_count": null,
   "metadata": {
    "colab": {
     "base_uri": "https://localhost:8080/",
     "height": 241
    },
    "id": "8LChzdrUxnS_",
    "outputId": "2f1b67ec-4078-442b-864f-2b59e11dae5f"
   },
   "outputs": [],
   "source": [
    "y = df.diagnosis\n",
    "list = ['Unnamed: 32','id','diagnosis']\n",
    "x = df.drop(list,axis = 1 )\n",
    "x.head()"
   ]
  },
  {
   "cell_type": "code",
   "execution_count": null,
   "metadata": {
    "colab": {
     "base_uri": "https://localhost:8080/",
     "height": 315
    },
    "id": "7S4e2MUoyCfP",
    "outputId": "7088107f-c841-426c-d3c0-512ef575f595"
   },
   "outputs": [],
   "source": [
    "ax = sns.countplot(y, label=\"Count\")\n",
    "B,M = y.value_counts()\n",
    "print(\"Number of Benign: {}\".format(B))\n",
    "print(\"Number of Malignant: {}\".format(M))"
   ]
  },
  {
   "cell_type": "code",
   "execution_count": null,
   "metadata": {
    "colab": {
     "base_uri": "https://localhost:8080/",
     "height": 901
    },
    "id": "q6uQDCO8yiJm",
    "outputId": "ae688181-2e2f-4258-d5b9-310f04f2ce5e"
   },
   "outputs": [],
   "source": [
    "x.describe().T"
   ]
  },
  {
   "cell_type": "code",
   "execution_count": null,
   "metadata": {
    "colab": {
     "base_uri": "https://localhost:8080/",
     "height": 1000
    },
    "id": "zRqbGvOD0xvF",
    "outputId": "703f4b0b-3e38-45cb-d0ca-d43823a79e68"
   },
   "outputs": [],
   "source": [
    "#correlation map\n",
    "f,ax = plt.subplots(figsize=(20,20))\n",
    "sns.heatmap(x.corr(), annot=True, linewidths=2, fmt= '.1f',ax=ax)"
   ]
  },
  {
   "cell_type": "code",
   "execution_count": null,
   "metadata": {
    "id": "sGcUVcRk1fCz"
   },
   "outputs": [],
   "source": []
  }
 ],
 "metadata": {
  "colab": {
   "authorship_tag": "ABX9TyOn229/29a25rt9jJ2ANq2F",
   "include_colab_link": true,
   "name": "BreastCancerEDA.ipynb",
   "provenance": []
  },
  "kernelspec": {
   "display_name": "Python 3 (ipykernel)",
   "language": "python",
   "name": "python3"
  },
  "language_info": {
   "codemirror_mode": {
    "name": "ipython",
    "version": 3
   },
   "file_extension": ".py",
   "mimetype": "text/x-python",
   "name": "python",
   "nbconvert_exporter": "python",
   "pygments_lexer": "ipython3",
   "version": "3.8.3"
  }
 },
 "nbformat": 4,
 "nbformat_minor": 1
}
